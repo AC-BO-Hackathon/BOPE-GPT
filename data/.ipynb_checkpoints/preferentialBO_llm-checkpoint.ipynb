{
 "cells": [
  {
   "cell_type": "code",
   "execution_count": 106,
   "metadata": {
    "id": "NTeLbyDoMi0-"
   },
   "outputs": [],
   "source": [
    "import os\n",
    "import warnings\n",
    "from itertools import combinations\n",
    "\n",
    "import numpy as np\n",
    "import torch\n",
    "import time\n",
    "\n",
    "# Suppress potential optimization warnings for cleaner notebook\n",
    "warnings.filterwarnings(\"ignore\")\n",
    "\n",
    "SMOKE_TEST = os.environ.get(\"SMOKE_TEST\")"
   ]
  },
  {
   "cell_type": "code",
   "execution_count": 88,
   "metadata": {},
   "outputs": [],
   "source": [
    "import DTLZ2_model\n",
    "import fischer_model\n",
    "from botorch.test_functions.multi_objective import DTLZ2\n",
    "from DTLZ2_model import neg_l1_dist\n",
    "from DTLZ2_model import predict_DTLZ2_model\n",
    "from fischer_model import predict_fischer_model\n",
    "import tensorflow as tf"
   ]
  },
  {
   "cell_type": "code",
   "execution_count": 89,
   "metadata": {},
   "outputs": [
    {
     "name": "stdout",
     "output_type": "stream",
     "text": [
      "\u001b[1m1/1\u001b[0m \u001b[32m━━━━━━━━━━━━━━━━━━━━\u001b[0m\u001b[37m\u001b[0m \u001b[1m0s\u001b[0m 13ms/step\n"
     ]
    },
    {
     "data": {
      "text/plain": [
       "tensor([[0.6455, 0.0591, 0.1161, 0.5071]])"
      ]
     },
     "execution_count": 89,
     "metadata": {},
     "output_type": "execute_result"
    }
   ],
   "source": [
    "predict_fischer_model(torch.tensor([[0.5, 0.5, 0.5, 0.5]]))\n"
   ]
  },
  {
   "cell_type": "code",
   "execution_count": 90,
   "metadata": {},
   "outputs": [],
   "source": [
    "import cohere\n",
    "co = cohere.Client('VEeUdMJ7GRqGNtuZfW0XdWP7JbSMoQiRuvZetNCL')"
   ]
  },
  {
   "cell_type": "code",
   "execution_count": 91,
   "metadata": {
    "id": "Mvj4PbSpNSjG"
   },
   "outputs": [],
   "source": [
    "# data generating helper functions\n",
    "#function that defines the comparisons\n",
    "def utility(X):\n",
    "    y=predict_fischer_model(X)\n",
    "    #weighted_y = y * torch.sqrt(torch.arange(y.size(-1), dtype=torch.float) + 1)\n",
    "    #y = torch.sum(weighted_y, dim=-1)\n",
    "    return y\n",
    "def generate_data(n, dim=4):\n",
    "    \"\"\"Generate data X and y\"\"\"\n",
    "    # X is randomly sampled from dim-dimentional unit cube\n",
    "    # we recommend using double as opposed to float tensor here for\n",
    "    # better numerical stability\n",
    "    X = torch.rand(n, dim, dtype=torch.float64)\n",
    "    x_2=tf.convert_to_tensor(X, dtype=tf.float32)\n",
    "    y = utility(x_2)\n",
    "    return X, y"
   ]
  },
  {
   "cell_type": "code",
   "execution_count": 107,
   "metadata": {},
   "outputs": [],
   "source": [
    "#im not sure if this is is the correct function, i'm a bit eepy\n",
    "#remember to reduce the number of comparisons n_comp,\n",
    "def generate_comparisons_llm(y, n_comp, replace=False):\n",
    "    \"\"\"Create pairwise comparisons with noise\"\"\"\n",
    "    # generate all possible pairs of elements in y\n",
    "    all_pairs = np.array(list(combinations(range(y.shape[0]), 2)))\n",
    "    # randomly select n_comp pairs from all_pairs\n",
    "    comp_pairs = all_pairs[\n",
    "        np.random.choice(range(len(all_pairs)), n_comp, replace=replace)\n",
    "    ]\n",
    "    new_pairs=[]\n",
    "    for opto in comp_pairs:\n",
    "        firstoption=opto[0]\n",
    "        secondoption=opto[1]\n",
    "        numfirst=(y[firstoption,:])\n",
    "        firstoutput1=f\"{numfirst[0].cpu().numpy():.1f}\"\n",
    "        firstoutput2=f\"{numfirst[1].cpu().numpy():.1f}\"\n",
    "        firstoutput3=f\"{numfirst[2].cpu().numpy():.1f}\"\n",
    "        firstoutput4=f\"{numfirst[3].cpu().numpy():.1f}\"\n",
    "        numsecond=(y[secondoption,:])\n",
    "        secondoutput1=f\"{numsecond[0].cpu().numpy():.1f}\"\n",
    "        secondoutput2=f\"{numsecond[1].cpu().numpy():.1f}\"\n",
    "        secondoutput3=f\"{numsecond[2].cpu().numpy():.1f}\"\n",
    "        secondoutput4=f\"{numsecond[3].cpu().numpy():.1f}\"\n",
    "        mess=\"Suppose you're managing a Fischer-Tropsch synthesis process, Option A: regime of \"+firstoutput1+\" CO conversion, \"+firstoutput2+\" methane production, \"+firstoutput3+\" paraffins, \"+firstoutput4+\" light oleffins. Option B: regime of \"+secondoutput1+\" CO conversion, \"+secondoutput2+\" methane production, \"+secondoutput3+\" paraffins, \"+secondoutput4+\" light oleffins. Choose only one option, only answer with 'Option A' or 'Option B'\"\n",
    "        print(mess)\n",
    "        response = co.chat(message=mess,\n",
    "        #perform web search before answering the question. You can also use your own custom connector.\n",
    "                          #connectors=[{\"id\": \"web-search\"}]\n",
    "        )\n",
    "        print(response.text)\n",
    "        opllm=response.text\n",
    "        \n",
    "        if \"Option A\" in opllm:\n",
    "            new_pairs.append(opto.tolist())\n",
    "        else:\n",
    "            new_pairs.append(list(reversed(opto)))\n",
    "        #api restrictions\n",
    "        time.sleep(6)\n",
    "    \n",
    "    return torch.tensor(new_pairs)"
   ]
  },
  {
   "cell_type": "code",
   "execution_count": null,
   "metadata": {},
   "outputs": [],
   "source": []
  },
  {
   "cell_type": "code",
   "execution_count": 93,
   "metadata": {
    "id": "m5F2xn-8N-g9"
   },
   "outputs": [
    {
     "name": "stdout",
     "output_type": "stream",
     "text": [
      "\u001b[1m1/1\u001b[0m \u001b[32m━━━━━━━━━━━━━━━━━━━━\u001b[0m\u001b[37m\u001b[0m \u001b[1m0s\u001b[0m 11ms/step\n"
     ]
    }
   ],
   "source": [
    "#parameters\n",
    "torch.manual_seed(123)\n",
    "n = 5 if not SMOKE_TEST else 5\n",
    "m = 10 if not SMOKE_TEST else 10\n",
    "dim = 4\n",
    "noise = 0.1\n",
    "\n",
    "#generate data, initial data\n",
    "train_X, train_y = generate_data(n, dim=dim)\n",
    "#generating comparison based on the utility function"
   ]
  },
  {
   "cell_type": "code",
   "execution_count": 94,
   "metadata": {},
   "outputs": [
    {
     "data": {
      "text/plain": [
       "tensor([[0.6120, 0.0323, 0.0788, 0.7586],\n",
       "        [0.7713, 0.1088, 0.1845, 0.6202],\n",
       "        [0.7695, 0.3089, 0.1960, 0.9149],\n",
       "        [0.1666, 0.0138, 0.0416, 0.1170],\n",
       "        [0.7502, 0.1029, 0.1468, 0.7700]])"
      ]
     },
     "execution_count": 94,
     "metadata": {},
     "output_type": "execute_result"
    }
   ],
   "source": [
    "train_y"
   ]
  },
  {
   "cell_type": "code",
   "execution_count": 95,
   "metadata": {},
   "outputs": [
    {
     "name": "stdout",
     "output_type": "stream",
     "text": [
      "Suppose you're managing a Fischer-Tropsch synthesis process, Option A: regime of 0.6 CO conversion, 0.0 methane production, 0.1 paraffins, 0.8 light oleffins. Option B: regime of 0.2 CO conversion, 0.0 methane production, 0.0 paraffins, 0.1 light oleffins. Choose only one option, only answer with 'Option A' or 'Option B'\n",
      "Option A.\n",
      "Suppose you're managing a Fischer-Tropsch synthesis process, Option A: regime of 0.8 CO conversion, 0.3 methane production, 0.2 paraffins, 0.9 light oleffins. Option B: regime of 0.8 CO conversion, 0.1 methane production, 0.1 paraffins, 0.8 light oleffins. Choose only one option, only answer with 'Option A' or 'Option B'\n",
      "Option A.\n",
      "Suppose you're managing a Fischer-Tropsch synthesis process, Option A: regime of 0.8 CO conversion, 0.1 methane production, 0.2 paraffins, 0.6 light oleffins. Option B: regime of 0.8 CO conversion, 0.3 methane production, 0.2 paraffins, 0.9 light oleffins. Choose only one option, only answer with 'Option A' or 'Option B'\n",
      "Option A.\n",
      "Suppose you're managing a Fischer-Tropsch synthesis process, Option A: regime of 0.2 CO conversion, 0.0 methane production, 0.0 paraffins, 0.1 light oleffins. Option B: regime of 0.8 CO conversion, 0.1 methane production, 0.1 paraffins, 0.8 light oleffins. Choose only one option, only answer with 'Option A' or 'Option B'\n",
      "Option B.\n",
      "Suppose you're managing a Fischer-Tropsch synthesis process, Option A: regime of 0.6 CO conversion, 0.0 methane production, 0.1 paraffins, 0.8 light oleffins. Option B: regime of 0.8 CO conversion, 0.3 methane production, 0.2 paraffins, 0.9 light oleffins. Choose only one option, only answer with 'Option A' or 'Option B'\n",
      "Option A.\n",
      "Suppose you're managing a Fischer-Tropsch synthesis process, Option A: regime of 0.8 CO conversion, 0.1 methane production, 0.2 paraffins, 0.6 light oleffins. Option B: regime of 0.8 CO conversion, 0.1 methane production, 0.1 paraffins, 0.8 light oleffins. Choose only one option, only answer with 'Option A' or 'Option B'\n",
      "Option A.\n",
      "Suppose you're managing a Fischer-Tropsch synthesis process, Option A: regime of 0.8 CO conversion, 0.3 methane production, 0.2 paraffins, 0.9 light oleffins. Option B: regime of 0.2 CO conversion, 0.0 methane production, 0.0 paraffins, 0.1 light oleffins. Choose only one option, only answer with 'Option A' or 'Option B'\n",
      "Option A.\n",
      "Suppose you're managing a Fischer-Tropsch synthesis process, Option A: regime of 0.6 CO conversion, 0.0 methane production, 0.1 paraffins, 0.8 light oleffins. Option B: regime of 0.8 CO conversion, 0.1 methane production, 0.1 paraffins, 0.8 light oleffins. Choose only one option, only answer with 'Option A' or 'Option B'\n",
      "Option A.\n",
      "Suppose you're managing a Fischer-Tropsch synthesis process, Option A: regime of 0.6 CO conversion, 0.0 methane production, 0.1 paraffins, 0.8 light oleffins. Option B: regime of 0.8 CO conversion, 0.1 methane production, 0.2 paraffins, 0.6 light oleffins. Choose only one option, only answer with 'Option A' or 'Option B'\n",
      "Option A.\n",
      "Suppose you're managing a Fischer-Tropsch synthesis process, Option A: regime of 0.8 CO conversion, 0.1 methane production, 0.2 paraffins, 0.6 light oleffins. Option B: regime of 0.2 CO conversion, 0.0 methane production, 0.0 paraffins, 0.1 light oleffins. Choose only one option, only answer with 'Option A' or 'Option B'\n",
      "Option A.\n"
     ]
    }
   ],
   "source": [
    "train_comp_llm = generate_comparisons_llm(train_y, m)"
   ]
  },
  {
   "cell_type": "code",
   "execution_count": 96,
   "metadata": {},
   "outputs": [
    {
     "data": {
      "text/plain": [
       "tensor([[0, 3],\n",
       "        [2, 4],\n",
       "        [1, 2],\n",
       "        [4, 3],\n",
       "        [0, 2],\n",
       "        [1, 4],\n",
       "        [2, 3],\n",
       "        [0, 4],\n",
       "        [0, 1],\n",
       "        [1, 3]])"
      ]
     },
     "execution_count": 96,
     "metadata": {},
     "output_type": "execute_result"
    }
   ],
   "source": [
    "train_comp_llm"
   ]
  },
  {
   "cell_type": "code",
   "execution_count": 97,
   "metadata": {
    "id": "fMuLBRO-NVj3"
   },
   "outputs": [],
   "source": [
    "from botorch.fit import fit_gpytorch_mll\n",
    "from botorch.models.pairwise_gp import PairwiseGP, PairwiseLaplaceMarginalLogLikelihood\n",
    "from botorch.models.transforms.input import Normalize\n",
    "\n",
    "\n",
    "model = PairwiseGP(\n",
    "    train_X,\n",
    "    train_comp_llm,\n",
    "    input_transform=Normalize(d=train_X.shape[-1]),\n",
    ")\n",
    "mll = PairwiseLaplaceMarginalLogLikelihood(model.likelihood, model)\n",
    "mll = fit_gpytorch_mll(mll)"
   ]
  },
  {
   "cell_type": "code",
   "execution_count": 98,
   "metadata": {
    "colab": {
     "base_uri": "https://localhost:8080/"
    },
    "id": "OdxhkF6yNZKp",
    "outputId": "0e3b833e-7a46-4413-f148-7e3fab6d8433"
   },
   "outputs": [
    {
     "name": "stdout",
     "output_type": "stream",
     "text": [
      "\u001b[1m1/1\u001b[0m \u001b[32m━━━━━━━━━━━━━━━━━━━━\u001b[0m\u001b[37m\u001b[0m \u001b[1m0s\u001b[0m 13ms/step\n",
      "Test Kendall-Tau rank correlation: 0.3778\n"
     ]
    }
   ],
   "source": [
    "from scipy.stats import kendalltau\n",
    "\n",
    "\n",
    "# Kendall-Tau rank correlation\n",
    "def eval_kt_cor(model, test_X, test_y):\n",
    "    pred_y = model.posterior(test_X).mean.squeeze().detach().numpy()\n",
    "    return kendalltau(pred_y, test_y).correlation\n",
    "\n",
    "\n",
    "n_kendall = 10 if not SMOKE_TEST else 10\n",
    "\n",
    "test_X, test_y = generate_data(n_kendall, dim=dim)\n",
    "kt_correlation = eval_kt_cor(model, test_X, test_y[:,3])\n",
    "\n",
    "print(f\"Test Kendall-Tau rank correlation: {kt_correlation:.4f}\")"
   ]
  },
  {
   "cell_type": "code",
   "execution_count": 99,
   "metadata": {},
   "outputs": [
    {
     "data": {
      "text/plain": [
       "tensor([[0.7945, 0.1514, 0.1911, 0.7392],\n",
       "        [0.9282, 0.4849, 0.4895, 0.7640],\n",
       "        [0.7444, 0.0902, 0.1446, 0.7523],\n",
       "        [0.0901, 0.0080, 0.0231, 0.0540],\n",
       "        [0.7948, 0.1246, 0.2002, 0.5776],\n",
       "        [0.9339, 0.3518, 0.4522, 0.7336],\n",
       "        [0.2673, 0.0214, 0.0484, 0.1970],\n",
       "        [0.0938, 0.0056, 0.0161, 0.0463],\n",
       "        [0.9412, 0.4081, 0.5771, 0.7078],\n",
       "        [0.8666, 0.3808, 0.3012, 0.8189]])"
      ]
     },
     "execution_count": 99,
     "metadata": {},
     "output_type": "execute_result"
    }
   ],
   "source": [
    "test_y"
   ]
  },
  {
   "cell_type": "code",
   "execution_count": 104,
   "metadata": {
    "id": "qEoN28RSNk2N"
   },
   "outputs": [],
   "source": [
    "from botorch.acquisition.preference import AnalyticExpectedUtilityOfBestOption\n",
    "from botorch.optim import optimize_acqf\n",
    "\n",
    "\n",
    "def init_and_fit_model(X, comp):\n",
    "    \"\"\"Model fitting helper function\"\"\"\n",
    "    model = PairwiseGP(\n",
    "        X,\n",
    "        comp,\n",
    "        input_transform=Normalize(d=X.shape[-1]),\n",
    "    )\n",
    "    mll = PairwiseLaplaceMarginalLogLikelihood(model.likelihood, model)\n",
    "    fit_gpytorch_mll(mll)\n",
    "    return mll, model\n",
    "\n",
    "\n",
    "def make_new_data(X, next_X, comps, q_comp):\n",
    "    \"\"\"Given X and next_X,\n",
    "    generate q_comp new comparisons between next_X\n",
    "    and return the concatenated X and comparisons\n",
    "    \"\"\"\n",
    "    # next_X is float by default; cast it to the dtype of X (i.e., double)\n",
    "    next_X = next_X.to(X)\n",
    "    next_y = utility(next_X)\n",
    "    next_comps = generate_comparisons_llm(next_y, n_comp=q_comp)\n",
    "    comps = torch.cat([comps, next_comps + X.shape[-2]])\n",
    "    X = torch.cat([X, next_X])\n",
    "    return X, comps"
   ]
  },
  {
   "cell_type": "code",
   "execution_count": 111,
   "metadata": {
    "id": "1pTEh0DMNv1w"
   },
   "outputs": [
    {
     "name": "stdout",
     "output_type": "stream",
     "text": [
      "\u001b[1m1/1\u001b[0m \u001b[32m━━━━━━━━━━━━━━━━━━━━\u001b[0m\u001b[37m\u001b[0m \u001b[1m0s\u001b[0m 13ms/step\n"
     ]
    },
    {
     "ename": "ValueError",
     "evalue": "Cannot take a larger sample than population when 'replace=False'",
     "output_type": "error",
     "traceback": [
      "\u001b[0;31m---------------------------------------------------------------------------\u001b[0m",
      "\u001b[0;31mValueError\u001b[0m                                Traceback (most recent call last)",
      "Cell \u001b[0;32mIn[111], line 26\u001b[0m\n\u001b[1;32m     24\u001b[0m \u001b[38;5;66;03m# Create initial data\u001b[39;00m\n\u001b[1;32m     25\u001b[0m init_X, init_y \u001b[38;5;241m=\u001b[39m generate_data(q, dim\u001b[38;5;241m=\u001b[39mdim)\n\u001b[0;32m---> 26\u001b[0m comparisons \u001b[38;5;241m=\u001b[39m \u001b[43mgenerate_comparisons_llm\u001b[49m\u001b[43m(\u001b[49m\u001b[43minit_y\u001b[49m\u001b[43m,\u001b[49m\u001b[43m \u001b[49m\u001b[43mq_comp\u001b[49m\u001b[43m)\u001b[49m\n\u001b[1;32m     27\u001b[0m \u001b[38;5;66;03m# X are within the unit cube\u001b[39;00m\n\u001b[1;32m     28\u001b[0m bounds \u001b[38;5;241m=\u001b[39m torch\u001b[38;5;241m.\u001b[39mstack([torch\u001b[38;5;241m.\u001b[39mzeros(dim), torch\u001b[38;5;241m.\u001b[39mones(dim)])\n",
      "Cell \u001b[0;32mIn[107], line 9\u001b[0m, in \u001b[0;36mgenerate_comparisons_llm\u001b[0;34m(y, n_comp, replace)\u001b[0m\n\u001b[1;32m      6\u001b[0m all_pairs \u001b[38;5;241m=\u001b[39m np\u001b[38;5;241m.\u001b[39marray(\u001b[38;5;28mlist\u001b[39m(combinations(\u001b[38;5;28mrange\u001b[39m(y\u001b[38;5;241m.\u001b[39mshape[\u001b[38;5;241m0\u001b[39m]), \u001b[38;5;241m2\u001b[39m)))\n\u001b[1;32m      7\u001b[0m \u001b[38;5;66;03m# randomly select n_comp pairs from all_pairs\u001b[39;00m\n\u001b[1;32m      8\u001b[0m comp_pairs \u001b[38;5;241m=\u001b[39m all_pairs[\n\u001b[0;32m----> 9\u001b[0m     np\u001b[38;5;241m.\u001b[39mrandom\u001b[38;5;241m.\u001b[39mchoice(\u001b[38;5;28mrange\u001b[39m(\u001b[38;5;28mlen\u001b[39m(all_pairs)), n_comp, replace\u001b[38;5;241m=\u001b[39mreplace)\n\u001b[1;32m     10\u001b[0m ]\n\u001b[1;32m     11\u001b[0m new_pairs\u001b[38;5;241m=\u001b[39m[]\n\u001b[1;32m     12\u001b[0m \u001b[38;5;28;01mfor\u001b[39;00m opto \u001b[38;5;129;01min\u001b[39;00m comp_pairs:\n",
      "File \u001b[0;32mnumpy/random/mtrand.pyx:1001\u001b[0m, in \u001b[0;36mnumpy.random.mtrand.RandomState.choice\u001b[0;34m()\u001b[0m\n",
      "\u001b[0;31mValueError\u001b[0m: Cannot take a larger sample than population when 'replace=False'"
     ]
    }
   ],
   "source": [
    "algos = [\"EUBO\", \"rand\"]\n",
    "\n",
    "NUM_TRIALS = 3 if not SMOKE_TEST else 2\n",
    "NUM_BATCHES = 20 if not SMOKE_TEST else 2\n",
    "\n",
    "dim = 4\n",
    "NUM_RESTARTS = 3\n",
    "RAW_SAMPLES = 512 if not SMOKE_TEST else 8\n",
    "q_eubo = 2  # number of points per query\n",
    "q_data=5\n",
    "q_comp = 10  # number of comparisons per query\n",
    "\n",
    "# initial evals\n",
    "best_vals = {}  # best observed values\n",
    "for algo in algos:\n",
    "    best_vals[algo] = []\n",
    "\n",
    "# average over multiple trials\n",
    "for i in range(NUM_TRIALS):\n",
    "    torch.manual_seed(i)\n",
    "    np.random.seed(i)\n",
    "    data = {}\n",
    "    models = {}\n",
    "\n",
    "    # Create initial data\n",
    "    init_X, init_y = generate_data(q_data, dim=dim)\n",
    "    comparisons = generate_comparisons_llm(init_y, q_comp)\n",
    "    # X are within the unit cube\n",
    "    bounds = torch.stack([torch.zeros(dim), torch.ones(dim)])\n",
    "\n",
    "    for algo in algos:\n",
    "        best_vals[algo].append([])\n",
    "        data[algo] = (init_X, comparisons)\n",
    "        _, models[algo] = init_and_fit_model(init_X, comparisons)\n",
    "\n",
    "        best_next_y = utility(init_X).max().item()\n",
    "        best_vals[algo][-1].append(best_next_y)\n",
    "\n",
    "    # we make additional NUM_BATCHES comparison queries after the initial observation\n",
    "    for j in range(1, NUM_BATCHES + 1):\n",
    "        print(j)\n",
    "        for algo in algos:\n",
    "            model = models[algo]\n",
    "            if algo == \"EUBO\":\n",
    "                # create the acquisition function object\n",
    "                acq_func = AnalyticExpectedUtilityOfBestOption(pref_model=model)\n",
    "                # optimize and get new observation\n",
    "                next_X, acq_val = optimize_acqf(\n",
    "                    acq_function=acq_func,\n",
    "                    bounds=bounds,\n",
    "                    q=q_eubo,\n",
    "                    num_restarts=NUM_RESTARTS,\n",
    "                    raw_samples=RAW_SAMPLES,\n",
    "                )\n",
    "            else:\n",
    "                # randomly sample data\n",
    "                next_X, _ = generate_data(q, dim=dim)\n",
    "\n",
    "            # update data\n",
    "            X, comps = data[algo]\n",
    "            X, comps = make_new_data(X, next_X, comps, q_comp)\n",
    "            data[algo] = (X, comps)\n",
    "\n",
    "            # refit models\n",
    "            _, models[algo] = init_and_fit_model(X, comps)\n",
    "\n",
    "            # record the best observed values so far\n",
    "            max_val = utility(X).max().item()\n",
    "            best_vals[algo][-1].append(max_val)"
   ]
  },
  {
   "cell_type": "code",
   "execution_count": 26,
   "metadata": {
    "colab": {
     "base_uri": "https://localhost:8080/",
     "height": 596
    },
    "id": "eRLF3-dFNzyW",
    "outputId": "9c83df50-e355-42b9-860e-b4b51d63f2c5"
   },
   "outputs": [
    {
     "name": "stdout",
     "output_type": "stream",
     "text": [
      "\u001b[1m1/1\u001b[0m \u001b[32m━━━━━━━━━━━━━━━━━━━━\u001b[0m\u001b[37m\u001b[0m \u001b[1m0s\u001b[0m 13ms/step\n"
     ]
    },
    {
     "data": {
      "text/plain": [
       "<matplotlib.legend.Legend at 0x2860b6e10>"
      ]
     },
     "execution_count": 26,
     "metadata": {},
     "output_type": "execute_result"
    },
    {
     "data": {
      "image/png": "[encoded data removed]",
      "text/plain": [
       "<Figure size 800x600 with 1 Axes>"
      ]
     },
     "metadata": {},
     "output_type": "display_data"
    }
   ],
   "source": [
    "from matplotlib import pyplot as plt\n",
    "\n",
    "\n",
    "%matplotlib inline\n",
    "\n",
    "plt.rcParams.update({\"font.size\": 14})\n",
    "\n",
    "algo_labels = {\n",
    "    \"rand\": \"Random Exploration\",\n",
    "    \"EUBO\": \"EUBO\",\n",
    "}\n",
    "\n",
    "\n",
    "def ci(y):\n",
    "    return 1.96 * y.std(axis=0) / np.sqrt(y.shape[0])\n",
    "\n",
    "\n",
    "# the utility function is maximized at the full vector of 1\n",
    "optimal_val = utility(torch.tensor([[1] * dim])).item()\n",
    "iters = list(range(NUM_BATCHES + 1))\n",
    "\n",
    "fig, ax = plt.subplots(1, 1, figsize=(8, 6))\n",
    "# plot the optimal value\n",
    "ax.plot(\n",
    "    iters,\n",
    "    [optimal_val] * len(iters),\n",
    "    label=\"Optimal Function Value\",\n",
    "    color=\"black\",\n",
    "    linewidth=1.5,\n",
    ")\n",
    "\n",
    "# plot the the best observed value from each algorithm\n",
    "for algo in algos:\n",
    "    ys = np.vstack(best_vals[algo])\n",
    "    ax.errorbar(\n",
    "        iters, ys.mean(axis=0), yerr=ci(ys), label=algo_labels[algo], linewidth=1.5\n",
    "    )\n",
    "\n",
    "ax.set(\n",
    "    xlabel=f\"Number of queries (q = {q}, num_comparisons = {q_comp})\",\n",
    "    ylabel=\"Best observed value\",\n",
    "    title=f\"{dim}-dim weighted vector sum\",\n",
    ")\n",
    "ax.legend(loc=\"best\")"
   ]
  },
  {
   "cell_type": "code",
   "execution_count": null,
   "metadata": {
    "id": "47P-W6iDOiHp"
   },
   "outputs": [],
   "source": []
  }
 ],
 "metadata": {
  "colab": {
   "provenance": []
  },
  "kernelspec": {
   "display_name": "Python [conda env:botorch_mar2024]",
   "language": "python",
   "name": "conda-env-botorch_mar2024-py"
  },
  "language_info": {
   "codemirror_mode": {
    "name": "ipython",
    "version": 3
   },
   "file_extension": ".py",
   "mimetype": "text/x-python",
   "name": "python",
   "nbconvert_exporter": "python",
   "pygments_lexer": "ipython3",
   "version": "3.11.0"
  }
 },
 "nbformat": 4,
 "nbformat_minor": 4
}
