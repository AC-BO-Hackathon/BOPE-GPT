{
 "cells": [
  {
   "cell_type": "code",
   "execution_count": 1,
   "metadata": {},
   "outputs": [
    {
     "name": "stderr",
     "output_type": "stream",
     "text": [
      "/opt/homebrew/Caskroom/miniconda/base/envs/botorch_mar2024/lib/python3.11/site-packages/tqdm/auto.py:21: TqdmWarning: IProgress not found. Please update jupyter and ipywidgets. See https://ipywidgets.readthedocs.io/en/stable/user_install.html\n",
      "  from .autonotebook import tqdm as notebook_tqdm\n"
     ]
    }
   ],
   "source": [
    "import DTLZ2_model\n",
    "import fischer_model\n",
    "from botorch.test_functions.multi_objective import DTLZ2\n",
    "from DTLZ2_model import neg_l1_dist\n",
    "from DTLZ2_model import predict_DTLZ2_model\n",
    "from fischer_model import predict_fischer_model\n",
    "import torch\n",
    "import numpy as np\n",
    "import pandas as pd"
   ]
  },
  {
   "cell_type": "code",
   "execution_count": 2,
   "metadata": {},
   "outputs": [
    {
     "data": {
      "text/plain": [
       "tensor([1.5000, 0.0000, 0.0000, 0.0000])"
      ]
     },
     "execution_count": 2,
     "metadata": {},
     "output_type": "execute_result"
    }
   ],
   "source": [
    "predict_DTLZ2_model(torch.tensor([0,0,0,0,0]))"
   ]
  },
  {
   "cell_type": "code",
   "execution_count": 3,
   "metadata": {},
   "outputs": [],
   "source": [
    "df = pd.read_csv(\"fischer_data_processed.csv\",sep=\",\")\n",
    "X = df.iloc[:,0:4].astype('float32')\n",
    "X=torch.Tensor(np.array(X))"
   ]
  },
  {
   "cell_type": "code",
   "execution_count": 5,
   "metadata": {},
   "outputs": [
    {
     "name": "stdout",
     "output_type": "stream",
     "text": [
      "\u001b[1m77/77\u001b[0m \u001b[32m━━━━━━━━━━━━━━━━━━━━\u001b[0m\u001b[37m\u001b[0m \u001b[1m0s\u001b[0m 350us/step\n"
     ]
    },
    {
     "data": {
      "text/plain": [
       "tensor([[-8.9039e-03, -3.2435e-03, -3.4000e-02,  5.0979e-02],\n",
       "        [-5.4560e-04, -1.1069e-03, -2.1563e-02,  5.9097e-02],\n",
       "        [ 6.8273e-03,  1.3993e-03, -1.0536e-02,  6.5502e-02],\n",
       "        ...,\n",
       "        [ 1.0061e+00,  6.4626e-01,  8.8467e-01,  6.2687e-01],\n",
       "        [ 1.0090e+00,  6.5653e-01,  9.1478e-01,  6.2146e-01],\n",
       "        [ 1.0114e+00,  6.6445e-01,  9.4301e-01,  6.1619e-01]])"
      ]
     },
     "execution_count": 5,
     "metadata": {},
     "output_type": "execute_result"
    }
   ],
   "source": [
    "predict_fischer_model(X)"
   ]
  }
 ],
 "metadata": {
  "kernelspec": {
   "display_name": "Python 3",
   "language": "python",
   "name": "python3"
  },
  "language_info": {
   "codemirror_mode": {
    "name": "ipython",
    "version": 3
   },
   "file_extension": ".py",
   "mimetype": "text/x-python",
   "name": "python",
   "nbconvert_exporter": "python",
   "pygments_lexer": "ipython3",
   "version": "3.11.0"
  }
 },
 "nbformat": 4,
 "nbformat_minor": 4
}
