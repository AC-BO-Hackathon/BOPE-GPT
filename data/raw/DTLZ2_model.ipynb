{
 "cells": [
  {
   "cell_type": "code",
   "execution_count": 1,
   "metadata": {},
   "outputs": [
    {
     "name": "stderr",
     "output_type": "stream",
     "text": [
      "/opt/homebrew/Caskroom/miniconda/base/envs/botorch_mar2024/lib/python3.11/site-packages/tqdm/auto.py:21: TqdmWarning: IProgress not found. Please update jupyter and ipywidgets. See https://ipywidgets.readthedocs.io/en/stable/user_install.html\n",
      "  from .autonotebook import tqdm as notebook_tqdm\n"
     ]
    }
   ],
   "source": [
    "import os\n",
    "from typing import Optional, Tuple\n",
    "\n",
    "import matplotlib as mpl\n",
    "import matplotlib.pylab as plt\n",
    "import numpy as np\n",
    "import pandas as pd\n",
    "import torch\n",
    "from botorch.acquisition import (\n",
    "    GenericMCObjective,\n",
    "    LearnedObjective,\n",
    "    MCAcquisitionObjective,\n",
    ")\n",
    "from botorch.acquisition.logei import qLogNoisyExpectedImprovement\n",
    "from botorch.acquisition.monte_carlo import qSimpleRegret\n",
    "from botorch.acquisition.preference import AnalyticExpectedUtilityOfBestOption\n",
    "from botorch.fit import fit_gpytorch_mll\n",
    "from botorch.models.deterministic import FixedSingleSampleModel\n",
    "from botorch.models.gp_regression import SingleTaskGP\n",
    "from botorch.models.pairwise_gp import PairwiseGP, PairwiseLaplaceMarginalLogLikelihood\n",
    "from botorch.models.transforms.input import Normalize\n",
    "from botorch.models.transforms.outcome import Standardize\n",
    "from botorch.optim.optimize import optimize_acqf\n",
    "from botorch.sampling import SobolQMCNormalSampler\n",
    "from botorch.test_functions.multi_objective import DTLZ2\n",
    "from botorch.utils.sampling import draw_sobol_samples\n",
    "from gpytorch.mlls.exact_marginal_log_likelihood import ExactMarginalLogLikelihood\n",
    "\n",
    "\n",
    "%matplotlib inline\n",
    "\n",
    "# Set plotting colors\n",
    "colors = [\"tab:blue\", \"tab:orange\", \"tab:green\", \"tab:red\"]\n",
    "mpl.rcParams[\"axes.prop_cycle\"] = mpl.cycler(color=colors)\n"
   ]
  },
  {
   "cell_type": "code",
   "execution_count": 3,
   "metadata": {},
   "outputs": [],
   "source": [
    "#define DTLZ2 problem and utility function\n",
    "def neg_l1_dist(Y: torch.Tensor, X: Optional[torch.Tensor] = None) -> torch.Tensor:\n",
    "    \"\"\"Negative L1 distance from a Pareto optimal points\"\"\"\n",
    "    if len(Y.shape) == 1:\n",
    "        Y = Y.unsqueeze(0)\n",
    "    dist = torch.cdist(\n",
    "        Y, torch.full(Y.shape[-1:], fill_value=0.5, dtype=Y.dtype).unsqueeze(0), p=1\n",
    "    ).squeeze(-1)\n",
    "    return -dist\n",
    "\n",
    "X_dim = 5\n",
    "Y_dim = 4\n",
    "problem = DTLZ2(dim=X_dim, num_objectives=Y_dim)\n",
    "util_func = neg_l1_dist\n"
   ]
  },
  {
   "cell_type": "code",
   "execution_count": 48,
   "metadata": {},
   "outputs": [
    {
     "data": {
      "text/plain": [
       "tensor([[1.5000, 0.0000, 0.0000, 0.0000],\n",
       "        [1.2137, 0.4370, 0.0000, 0.0000]])"
      ]
     },
     "execution_count": 48,
     "metadata": {},
     "output_type": "execute_result"
    }
   ],
   "source": [
    "#example for calculating y\n",
    "x=torch.tensor([[0,0,0,0,0],[0,0,0.22,0.3,1]])\n",
    "y=problem(x)\n",
    "y"
   ]
  },
  {
   "cell_type": "code",
   "execution_count": 46,
   "metadata": {},
   "outputs": [
    {
     "data": {
      "text/plain": [
       "tensor([-2.5000, -1.7768])"
      ]
     },
     "execution_count": 46,
     "metadata": {},
     "output_type": "execute_result"
    }
   ],
   "source": [
    "#example for calculating utility function\n",
    "util_func(y)"
   ]
  }
 ],
 "metadata": {
  "kernelspec": {
   "display_name": "botorch_mar2024",
   "language": "python",
   "name": "python3"
  },
  "language_info": {
   "codemirror_mode": {
    "name": "ipython",
    "version": 3
   },
   "file_extension": ".py",
   "mimetype": "text/x-python",
   "name": "python",
   "nbconvert_exporter": "python",
   "pygments_lexer": "ipython3",
   "version": "3.11.0"
  }
 },
 "nbformat": 4,
 "nbformat_minor": 2
}
